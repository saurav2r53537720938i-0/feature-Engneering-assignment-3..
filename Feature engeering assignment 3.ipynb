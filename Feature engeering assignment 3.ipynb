{
 "cells": [
  {
   "cell_type": "markdown",
   "id": "2a0022a2-df10-4f7b-a239-c501aca0375a",
   "metadata": {},
   "source": [
    "Minimum-Maximium scalling ,also know as min-max scalling or normalization ,is a technique used in data preprocessing to scale numerical features to a fixed range usually between 0and 1 it works by subtracting the minium value of the feature and then divding by the range.\n",
    "1. orginal feature value\n",
    "2. applying min-max scalling"
   ]
  },
  {
   "cell_type": "markdown",
   "id": "2f6e7b14-ecdb-4cab-abd2-eeb71d6c9cf1",
   "metadata": {},
   "source": [
    "The unit vector technique also know as vector normalization or feature scalling by unit norm,is a method used to scale feature vector to have a unit norm,a length or magntiude of 1 it commoonly used un machine learning algorthims that rely on distance metrics such as k nearest neighbour and support vector machine.\n",
    "1. orginal feature vector\n",
    "* height 160cm\n",
    "* weight 60kg"
   ]
  },
  {
   "cell_type": "code",
   "execution_count": null,
   "id": "108fe411-12c9-4be8-a426-52297260f3d6",
   "metadata": {},
   "outputs": [],
   "source": []
  }
 ],
 "metadata": {
  "kernelspec": {
   "display_name": "Python 3 (ipykernel)",
   "language": "python",
   "name": "python3"
  },
  "language_info": {
   "codemirror_mode": {
    "name": "ipython",
    "version": 3
   },
   "file_extension": ".py",
   "mimetype": "text/x-python",
   "name": "python",
   "nbconvert_exporter": "python",
   "pygments_lexer": "ipython3",
   "version": "3.10.8"
  }
 },
 "nbformat": 4,
 "nbformat_minor": 5
}
